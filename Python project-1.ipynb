{
 "cells": [
  {
   "cell_type": "markdown",
   "id": "afaf2fa7",
   "metadata": {},
   "source": [
    "# Loan Calculator"
   ]
  },
  {
   "cell_type": "code",
   "execution_count": 2,
   "id": "1d4f80a9",
   "metadata": {},
   "outputs": [
    {
     "data": {
      "text/plain": [
       "<__main__.LoanCalculator at 0x3a83b50>"
      ]
     },
     "execution_count": 2,
     "metadata": {},
     "output_type": "execute_result"
    }
   ],
   "source": [
    "# Import TKinter Module - Used to create GUI -Standard interface to Tk GUI Toolkit\n",
    "from tkinter import *           # (*) Imports whole module\n",
    "\n",
    "# Create a user defined class named: LoanCalculator which holds it's own\n",
    "# data members and member functions.\n",
    "\n",
    "class LoanCalculator:\n",
    "\tdef __init__(self):    #Special method in Python Class-Constructor of a Python Class\n",
    "\t\twindow = Tk() #Creates a window to house the calculator bits\n",
    "\t\twindow.title(\"Loan Calculator\") # sets the title\n",
    "\t\twindow.configure(background = \"light green\")  # sets bg color for window\n",
    "\n",
    "\t\t# Create input boxes: Label function creates a display box to take input\n",
    "\t\t# The grid method gives it a table like structure\n",
    "\t\t#Widgets are centered by default. Use sticky arguments to change:N.S.E.W\n",
    "\t\tLabel(window, font='Helvetica 12 bold',bg =\"light green\",text=\"Annual Interest Rate\").grid(row=1,column=1, sticky=W)\n",
    "\t\tLabel(window, font='Helvetica 12 bold',bg =\"light green\",text=\"Number of Years\").grid(row=2,column=1, sticky=W)\n",
    "\t\tLabel(window, font='Helvetica 12 bold',bg =\"light green\",text=\"Loan Amount\").grid(row=3,column=1, sticky=W)\n",
    "\t\tLabel(window, font='Helvetica 12 bold',bg =\"light green\", text=\"Monthly Payment\").grid(row=4,column=1, sticky=W)\n",
    "\t\tLabel(window, font='Helvetica 12 bold',bg =\"light green\",text=\"Total Payment\").grid(row=5,column=1, sticky=W)\n",
    "\n",
    "\t\t# Create objects: first 3 objects to take inputs using entry() function\n",
    "\n",
    "\t\tself.annualInterestRateVar = StringVar()\n",
    "\t\tEntry(window, textvariable=self.annualInterestRateVar,justify=RIGHT).grid(row=1, column=2)\n",
    "\n",
    "\t\tself.numberofYearsVar = StringVar()\n",
    "\t\tEntry(window, textvariable=self.numberofYearsVar,justify=RIGHT).grid(row=2, column=2)\n",
    "\n",
    "\t\tself.loanAmountVar = StringVar()\n",
    "\t\tEntry(window, textvariable=self.loanAmountVar,justify=RIGHT).grid(row=3, column=2)\n",
    "\n",
    "\t\tself.monthlyPaymentVar = StringVar()\n",
    "\t\tlblMonthlyPayment= Label(window,font='Helvetica 12 bold',bg =\"light green\", textvariable=self.monthlyPaymentVar).grid(row=4,column=2, sticky=E)\n",
    "\n",
    "\t\tself.totalPaymentVar = StringVar()\n",
    "\t\tlblTotalPayment= Label(window,font='Helvetica 12 bold',bg =\"light green\", textvariable=self.totalPaymentVar).grid(row=5,column=2, sticky=E)\n",
    "\n",
    "\t\t# Create button to calculate payment. When button is clicked it will call the compute payment function\n",
    "\n",
    "\t\tbtComputePayment = Button(window, text=\"Compute Payment\",bg=\"red\",fg=\"white\",font='Helvetica 14 bold', command=self.computePayment).grid(row=6, column=2, sticky=E)\n",
    "\t\tbtClear = Button(window, text=\"Clear\",bg=\"blue\",fg=\"white\",font='Helvetica 14 bold', command=self.delete_all).grid(row=6, column=8, padx=20,pady=20 ,sticky=E)\n",
    "\n",
    "\t\twindow.mainloop()  # The mainloop () function is used to run the application program.\n",
    "\n",
    "\t\t# Create function to compute total payment\n",
    "\n",
    "\tdef computePayment(self):\n",
    "\t\tmonthlyPayment = self.getMonthlyPayment(\n",
    "\t\t\tfloat(self.loanAmountVar.get()),\n",
    "\t\t\tfloat(self.annualInterestRateVar.get())  / 1200 ,\n",
    "\t\t\tint(self.numberofYearsVar.get()))\n",
    "\n",
    "\n",
    "\t\tself.monthlyPaymentVar.set(format(monthlyPayment, '10.2f'))\n",
    "\t\ttotalPayment = float(self.monthlyPaymentVar.get()) * 12 \\\n",
    "\t\t * int(self.numberofYearsVar.get())\n",
    "\n",
    "\t\tself.totalPaymentVar.set(format(totalPayment, '10.2f'))\n",
    "\n",
    "\n",
    "\tdef getMonthlyPayment(self,loanAmount,monthlyInterestRate,numberofYears):\n",
    "\t\tmonthlyPayment = loanAmount * monthlyInterestRate / (1-1/(1 + monthlyInterestRate)** (numberofYears * 12 ))\n",
    "\t\treturn monthlyPayment\t\n",
    "\n",
    "\n",
    "\tdef delete_all(self) :\n",
    "\t\tself.monthlyPaymentVar.set(\"\")\n",
    "\t\tself.loanAmountVar.set(\"\")\n",
    "\t\tself.annualInterestRateVar.set(\"\")\n",
    "\t\tself.numberofYearsVar.set(\"\")\n",
    "\t\tself.totalPaymentVar.set(\"\")\n",
    "\n",
    "\n",
    "\n",
    "\n",
    "# Call the class to run the program\n",
    "\n",
    "LoanCalculator()\n"
   ]
  },
  {
   "cell_type": "code",
   "execution_count": null,
   "id": "089295b1",
   "metadata": {},
   "outputs": [],
   "source": []
  }
 ],
 "metadata": {
  "kernelspec": {
   "display_name": "Python 3 (ipykernel)",
   "language": "python",
   "name": "python3"
  },
  "language_info": {
   "codemirror_mode": {
    "name": "ipython",
    "version": 3
   },
   "file_extension": ".py",
   "mimetype": "text/x-python",
   "name": "python",
   "nbconvert_exporter": "python",
   "pygments_lexer": "ipython3",
   "version": "3.8.5"
  }
 },
 "nbformat": 4,
 "nbformat_minor": 5
}
