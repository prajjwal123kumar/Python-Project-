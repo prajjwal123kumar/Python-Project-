{
 "cells": [
  {
   "cell_type": "code",
   "execution_count": 1,
   "id": "d6c5b40f",
   "metadata": {},
   "outputs": [
    {
     "data": {
      "text/plain": [
       "<__main__.CurrencyConverter at 0x3a85310>"
      ]
     },
     "execution_count": 1,
     "metadata": {},
     "output_type": "execute_result"
    }
   ],
   "source": [
    "from tkinter import * # Import whole module\n",
    "\n",
    "class CurrencyConverter:  # Create class\n",
    "    def __init__(self):  # Special method in Python class\n",
    "        window = Tk()  # Create application window\n",
    "        window.title(\"Currency Converter\")  # Add title to application window\n",
    "        window.configure(bg=\"yellow\")   # Add background color to application window\n",
    "\n",
    "        # Adding Label widgets to application window\n",
    "        Label(window,font=\"Helvetica 12 bold\",bg=\"yellow\",text =\"Amount to convert\").grid(row=1, column=1,sticky =W)\n",
    "        Label(window,font=\"Helvetica 12 bold\",bg=\"yellow\",text =\"Conversion Rate\").grid(row=2, column=1,sticky =W)\n",
    "        Label(window,font=\"Helvetica 12 bold\",bg=\"yellow\",text =\"Converted Amount\").grid(row=3, column=1,sticky =W)\n",
    "\n",
    "        # Create objects and add entry functions\n",
    "        self.amounttoConvertVar = StringVar()\n",
    "        Entry(window, textvariable = self.amounttoConvertVar, justify = RIGHT).grid(row=1,column=2)\n",
    "        self.conversionRateVar = StringVar()\n",
    "        Entry(window, textvariable = self.conversionRateVar, justify = RIGHT).grid(row=2,column=2)\n",
    "        self.convertedAmountVar = StringVar()\n",
    "        lblConvertedAmount =Label(window,font=\"Helvetica 12 bold\",bg=\"yellow\", textvariable = self.convertedAmountVar).grid(row=3,column=2,sticky = E)\n",
    "\n",
    "        # Create convert and clear buttons . When clicked they will call their respective functions.\n",
    "        btConvertedAmount = Button(window, text = \"Convert\",font=\"Helvetica 12 bold\",bg=\"blue\",fg=\"white\",command = self.ConvertedAmount).grid(row = 4,column=2,sticky = E)\n",
    "        btdelete_all = Button(window, text = \"Clear\",font=\"Helvetica 12 bold\",bg=\"red\",fg=\"white\",command = self.delete_all).grid(row = 4,column=6,padx=25,pady=25,sticky = E)\n",
    "\n",
    "        window.mainloop()  # Runs the application program\n",
    "\n",
    "        # Function to do the conversion. Stores inputs and performs conversion\n",
    "    def ConvertedAmount(self):\n",
    "        amt = float(self.conversionRateVar.get())\n",
    "        convertedAmountVar =float(self.amounttoConvertVar.get()) * amt\n",
    "        self.convertedAmountVar.set(format(convertedAmountVar, '10.2f'))\n",
    "\n",
    "# Function to clear inputs\n",
    "    def delete_all(self):\n",
    "        self.amounttoConvertVar.set(\"\")\n",
    "        self.conversionRateVar.set(\"\")\n",
    "        self.convertedAmountVar.set(\"\")\n",
    "\n",
    "CurrencyConverter()\n"
   ]
  },
  {
   "cell_type": "code",
   "execution_count": null,
   "id": "e61c2a64",
   "metadata": {},
   "outputs": [],
   "source": []
  }
 ],
 "metadata": {
  "kernelspec": {
   "display_name": "Python 3 (ipykernel)",
   "language": "python",
   "name": "python3"
  },
  "language_info": {
   "codemirror_mode": {
    "name": "ipython",
    "version": 3
   },
   "file_extension": ".py",
   "mimetype": "text/x-python",
   "name": "python",
   "nbconvert_exporter": "python",
   "pygments_lexer": "ipython3",
   "version": "3.8.5"
  }
 },
 "nbformat": 4,
 "nbformat_minor": 5
}
