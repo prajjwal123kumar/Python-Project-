{
 "cells": [
  {
   "cell_type": "code",
   "execution_count": null,
   "id": "69fbef12",
   "metadata": {},
   "outputs": [],
   "source": [
    "# Importing Modules\n",
    "from tkinter import *\n",
    "from time import strftime\n",
    "\n",
    "root = Tk()  # Creates tkinter window\n",
    "root.title(\"Digital Computer Clock\")  # Adds title to tkinter window\n",
    "\n",
    "# Function used to display time on the label\n",
    "def time():\n",
    "    string = strftime(\"%H:%M:%S %p\")\n",
    "    lbl.config(text = string)\n",
    "    lbl.after(1000, time)\n",
    "\n",
    "# Styling the label widget which displays the clock\n",
    "lbl = Label(root, font = (\"arial\", 160, \"bold\"),bg=\"black\",fg=\"white\")\n",
    "\n",
    "# Pack method in tkinter packs widgets into rows or columns. Positions label\n",
    "lbl.pack(anchor = \"center\",fill = \"both\",expand=1)\n",
    "\n",
    "time()  # Time function is called\n",
    "\n",
    "mainloop()   # Runs the application program\n"
   ]
  }
 ],
 "metadata": {
  "kernelspec": {
   "display_name": "Python 3 (ipykernel)",
   "language": "python",
   "name": "python3"
  },
  "language_info": {
   "codemirror_mode": {
    "name": "ipython",
    "version": 3
   },
   "file_extension": ".py",
   "mimetype": "text/x-python",
   "name": "python",
   "nbconvert_exporter": "python",
   "pygments_lexer": "ipython3",
   "version": "3.8.5"
  }
 },
 "nbformat": 4,
 "nbformat_minor": 5
}
